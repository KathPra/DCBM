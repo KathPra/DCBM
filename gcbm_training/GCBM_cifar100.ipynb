{
 "cells": [
  {
   "cell_type": "code",
   "execution_count": null,
   "metadata": {},
   "outputs": [],
   "source": [
    "import os\n",
    "import argparse\n",
    "import wandb\n",
    "import re\n",
    "import clip\n",
    "\n",
    "import numpy as np\n",
    "import pandas as pd\n",
    "import matplotlib.pyplot as plt\n",
    "\n",
    "# add the parent directory to the path\n",
    "import sys\n",
    "current_dir = os.getcwd()\n",
    "parent_dir = os.path.abspath(os.path.join(current_dir, '..'))\n",
    "sys.path.insert(0, parent_dir)\n",
    "                \n",
    "from utils.gcbm import *\n",
    "\n"
   ]
  },
  {
   "cell_type": "markdown",
   "metadata": {},
   "source": [
    "# Load data & Apply Concept extraction"
   ]
  },
  {
   "cell_type": "code",
   "execution_count": null,
   "metadata": {},
   "outputs": [],
   "source": [
    "# ----------------- Fix -----------------\n",
    "embed_path = \"../data/Embeddings/\"\n",
    "dataset = \"cifar100\"\n",
    "class_labels_path = \"../data/classes/cifar100_classes.txt\"\n",
    "segment_path = \"../data/Segments/\"\n",
    "selected_image_concepts = \"../data/Embeddings/subsets\"\n",
    "\n",
    "# ----------------- Hyperparameters -----------------\n",
    "\n",
    "model_name = \"CLIP-ViT-L14\"  # \"CLIP-ViT-L14\", \"CLIP-RN50\", CLIP-ViT-B16\n",
    "\n",
    "segmentation_technique = \"SAM2\"  # GDINO, SAM, SAM2, DETR, MaskRCNN\n",
    "concept_name = None # Define for GDINE [awa, sun, sun-lowthresh, cub...]\n",
    "\n",
    "device = \"cpu\"\n",
    "\n",
    "clusters = 2048\n",
    "cluster_method = \"kmeans\"  # \"hierarchical\", \"kmeans\"\n",
    "centroid_method = \"median\"  # \"mean\", \"median\"\n",
    "\n",
    "concept_per_class = 50  # How many images for each class 5,10,20,50, None\n",
    "\n",
    "one_hot = False\n",
    "epochs = 200\n",
    "lambda_1 = 1e-4\n",
    "lr = 1e-4\n",
    "batch_size = 32\n",
    "\n",
    "crop = False  # True without background\n",
    "\n",
    "use_wandb = False\n",
    "project = \"YOUR_PROJECT_NAME\"  # Define your own project name within wandb"
   ]
  },
  {
   "cell_type": "code",
   "execution_count": null,
   "metadata": {},
   "outputs": [],
   "source": [
    "cbm = CBM(\n",
    "    embed_path, dataset, model_name, class_labels_path, device=device\n",
    ")  # Initialize CBM\n",
    "\n",
    "cbm.load_concepts(\n",
    "    segment_path,\n",
    "    segmentation_technique,\n",
    "    concept_name,\n",
    "    selected_image_concepts,\n",
    "    concept_per_class,\n",
    "    crop=crop,\n",
    ")  # Load concepts with predefined segmentation technique and hyperparameters\n",
    "\n",
    "if clusters is not None:  # if clustering is needed\n",
    "    cbm.cluster_image_concepts(cluster_method, clusters)\n",
    "else:\n",
    "    cbm.clustered_concepts = cbm.image_segments\n",
    "\n",
    "cbm.centroid_concepts(\n",
    "    centroid_method\n",
    ")  # Calculate centroids of the concepts with given method\n",
    "\n",
    "cbm.preprocess_data(\n",
    "    type_=\"standard\", label_type=one_hot\n",
    ")  # preprocess data for training\n",
    "cbm.train(  # train the model\n",
    "    num_epochs=epochs,\n",
    "    lambda_1=lambda_1,\n",
    "    lr=lr,\n",
    "    batch_size=batch_size,\n",
    "    device=device,\n",
    "    project=project,\n",
    "    to_print=False,\n",
    "    early_stopping_patience=None,\n",
    "    one_hot=one_hot,\n",
    "    use_wandb=use_wandb,\n",
    ")"
   ]
  },
  {
   "cell_type": "code",
   "execution_count": null,
   "metadata": {},
   "outputs": [],
   "source": []
  }
 ],
 "metadata": {
  "kernelspec": {
   "display_name": "envi",
   "language": "python",
   "name": "python3"
  },
  "language_info": {
   "codemirror_mode": {
    "name": "ipython",
    "version": 3
   },
   "file_extension": ".py",
   "mimetype": "text/x-python",
   "name": "python",
   "nbconvert_exporter": "python",
   "pygments_lexer": "ipython3",
   "version": "3.11.10"
  }
 },
 "nbformat": 4,
 "nbformat_minor": 2
}
