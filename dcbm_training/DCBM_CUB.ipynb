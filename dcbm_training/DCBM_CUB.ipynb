{
 "cells": [
  {
   "cell_type": "code",
   "execution_count": 2,
   "metadata": {},
   "outputs": [],
   "source": [
    "import os\n",
    "import argparse\n",
    "import wandb\n",
    "import re\n",
    "import clip\n",
    "\n",
    "import numpy as np\n",
    "import pandas as pd\n",
    "import matplotlib.pyplot as plt\n",
    "\n",
    "# add the parent directory to the path\n",
    "import sys\n",
    "current_dir = os.getcwd()\n",
    "parent_dir = os.path.abspath(os.path.join(current_dir, '..'))\n",
    "sys.path.insert(0, parent_dir)\n",
    "                \n",
    "from utils.dcbm import *\n",
    "\n"
   ]
  },
  {
   "cell_type": "markdown",
   "metadata": {},
   "source": [
    "# Load data & Apply Concept extraction"
   ]
  },
  {
   "cell_type": "code",
   "execution_count": 3,
   "metadata": {},
   "outputs": [],
   "source": [
    "# ----------------- Fix -----------------\n",
    "embed_path = \"../data/Embeddings/\"\n",
    "dataset = \"cub\"\n",
    "class_labels_path = \"../data/classes/cub_classes.txt\"\n",
    "segment_path = \"../data/Segments/\"\n",
    "selected_image_concepts = \"../data/Embeddings/subsets\"\n",
    "\n",
    "# ----------------- Hyperparameters -----------------\n",
    "\n",
    "model_name = \"CLIP-ViT-L14\"  # \"CLIP-ViT-L14\", \"CLIP-RN50\", CLIP-ViT-B16\n",
    "\n",
    "segmentation_technique = \"SAM2\"  # GDINO, SAM, SAM2, DETR, MaskRCNN\n",
    "concept_name = None # Define for GDINE [awa, sun, sun-lowthresh, cub...]\n",
    "\n",
    "device = \"cpu\"\n",
    "\n",
    "clusters = 2048\n",
    "cluster_method = \"kmeans\"  # \"hierarchical\", \"kmeans\"\n",
    "centroid_method = \"median\"  # \"mean\", \"median\"\n",
    "\n",
    "concept_per_class = 50  # How many images for each class 5,10,20,50, None\n",
    "\n",
    "one_hot = False\n",
    "epochs = 200\n",
    "lambda_1 = 1e-4\n",
    "lr = 1e-4\n",
    "batch_size = 32\n",
    "\n",
    "crop = False  # True without background\n",
    "\n",
    "use_wandb = False\n",
    "project = \"YOUR_PROJECT_NAME\"  # Define your own project name within wandb"
   ]
  },
  {
   "cell_type": "code",
   "execution_count": 5,
   "metadata": {},
   "outputs": [
    {
     "name": "stdout",
     "output_type": "stream",
     "text": [
      "Train data loaded from ../Embeddings/images_CUB_train_CLIP-ViT-L14.torch\n",
      "Validation data loaded from ../Embeddings/images_CUB_val_CLIP-ViT-L14.torch\n",
      "Test data loaded from ../Embeddings/images_CUB_test_CLIP-ViT-L14.torch\n"
     ]
    },
    {
     "name": "stderr",
     "output_type": "stream",
     "text": [
      "/ceph/pknab/pknab/03_CLIP/SegCBM/CBM/utilities/cbm.py:618: FutureWarning: You are using `torch.load` with `weights_only=False` (the current default value), which uses the default pickle module implicitly. It is possible to construct malicious pickle data which will execute arbitrary code during unpickling (See https://github.com/pytorch/pytorch/blob/main/SECURITY.md#untrusted-models for more details). In a future release, the default value for `weights_only` will be flipped to `True`. This limits the functions that could be executed during unpickling. Arbitrary objects will no longer be allowed to be loaded via this mode unless they are explicitly allowlisted by the user via `torch.serialization.add_safe_globals`. We recommend you start setting `weights_only=True` for any use case where you don't have full control of the loaded file. Please open an issue on GitHub for any issues related to this experimental feature.\n",
      "  concepts_dict = torch.load(concept_path)\n"
     ]
    },
    {
     "name": "stdout",
     "output_type": "stream",
     "text": [
      "Concepts loaded from  ../Segments/Seg_embs/segcrop_CUB_200_2011_SAM2_CLIP-ViT-L14.torch\n",
      "PCA:  True\n",
      "Number of image embeddings:  38416\n",
      "Number of clusters:  2048\n",
      "Clustering method:  kmeans\n"
     ]
    },
    {
     "name": "stderr",
     "output_type": "stream",
     "text": [
      "/home/pknab/miniconda3/envs/envi/lib/python3.10/site-packages/sklearn/cluster/_kmeans.py:870: FutureWarning: The default value of `n_init` will change from 10 to 'auto' in 1.4. Set the value of `n_init` explicitly to suppress the warning\n",
      "  warnings.warn(\n",
      "Processing Batches: 100%|██████████| 6/6 [00:00<00:00, 367.28it/s]\n",
      "Processing Batches: 100%|██████████| 1/1 [00:00<00:00, 686.47it/s]\n",
      "Processing Batches: 100%|██████████| 6/6 [00:00<00:00, 676.85it/s]\n"
     ]
    },
    {
     "name": "stdout",
     "output_type": "stream",
     "text": [
      "(5394, 2048) (5794, 2048) (600, 2048) (5394, 200) (5794, 200) (600, 200)\n",
      "learning rate:  0.0001\n",
      "lambda_1:  0.0001\n"
     ]
    },
    {
     "data": {
      "text/html": [
       "wandb version 0.18.7 is available!  To upgrade, please run:\n",
       " $ pip install wandb --upgrade"
      ],
      "text/plain": [
       "<IPython.core.display.HTML object>"
      ]
     },
     "metadata": {},
     "output_type": "display_data"
    },
    {
     "data": {
      "text/html": [
       "Tracking run with wandb version 0.16.1"
      ],
      "text/plain": [
       "<IPython.core.display.HTML object>"
      ]
     },
     "metadata": {},
     "output_type": "display_data"
    },
    {
     "data": {
      "text/html": [
       "Run data is saved locally in <code>/ceph/pknab/pknab/03_CLIP/SegCBM/CBM/wandb/run-20241118_134644-sgwp86jx</code>"
      ],
      "text/plain": [
       "<IPython.core.display.HTML object>"
      ]
     },
     "metadata": {},
     "output_type": "display_data"
    },
    {
     "data": {
      "text/html": [
       "Syncing run <strong><a href='https://wandb.ai/knab/SegCBM_ALL/runs/sgwp86jx' target=\"_blank\">cub_CLIP-ViT-L14_2024-11-18_13-46-44</a></strong> to <a href='https://wandb.ai/knab/SegCBM_ALL' target=\"_blank\">Weights & Biases</a> (<a href='https://wandb.me/run' target=\"_blank\">docs</a>)<br/>"
      ],
      "text/plain": [
       "<IPython.core.display.HTML object>"
      ]
     },
     "metadata": {},
     "output_type": "display_data"
    },
    {
     "data": {
      "text/html": [
       " View project at <a href='https://wandb.ai/knab/SegCBM_ALL' target=\"_blank\">https://wandb.ai/knab/SegCBM_ALL</a>"
      ],
      "text/plain": [
       "<IPython.core.display.HTML object>"
      ]
     },
     "metadata": {},
     "output_type": "display_data"
    },
    {
     "data": {
      "text/html": [
       " View run at <a href='https://wandb.ai/knab/SegCBM_ALL/runs/sgwp86jx' target=\"_blank\">https://wandb.ai/knab/SegCBM_ALL/runs/sgwp86jx</a>"
      ],
      "text/plain": [
       "<IPython.core.display.HTML object>"
      ]
     },
     "metadata": {},
     "output_type": "display_data"
    },
    {
     "data": {
      "application/vnd.jupyter.widget-view+json": {
       "model_id": "531d011f7eb5495e9de3038f6f762b2d",
       "version_major": 2,
       "version_minor": 0
      },
      "text/plain": [
       "VBox(children=(Label(value='0.012 MB of 0.012 MB uploaded\\r'), FloatProgress(value=1.0, max=1.0)))"
      ]
     },
     "metadata": {},
     "output_type": "display_data"
    },
    {
     "name": "stderr",
     "output_type": "stream",
     "text": [
      "wandb: WARNING Source type is set to 'repo' but some required information is missing from the environment. A job will not be created from this run. See https://docs.wandb.ai/guides/launch/create-job\n"
     ]
    },
    {
     "data": {
      "text/html": [
       "<style>\n",
       "    table.wandb td:nth-child(1) { padding: 0 10px; text-align: left ; width: auto;} td:nth-child(2) {text-align: left ; width: 100%}\n",
       "    .wandb-row { display: flex; flex-direction: row; flex-wrap: wrap; justify-content: flex-start; width: 100% }\n",
       "    .wandb-col { display: flex; flex-direction: column; flex-basis: 100%; flex: 1; padding: 10px; }\n",
       "    </style>\n",
       "<div class=\"wandb-row\"><div class=\"wandb-col\"><h3>Run history:</h3><br/><table class=\"wandb\"><tr><td>background</td><td>▁</td></tr><tr><td>batch_size</td><td>▁</td></tr><tr><td>ce_loss</td><td>█▄▂▂▂▂▂▁▁▁▁▁▁▁▁▁▁▁▁▁▁▁▁▁▁▁▁▁▁▁▁▁▁▁▁▁▁▁▁▁</td></tr><tr><td>clusters</td><td>▁</td></tr><tr><td>l1_loss</td><td>▅▇████▇▇▆▆▅▅▄▄▄▄▃▃▃▃▃▃▂▂▂▂▂▂▂▂▂▂▁▁▁▁▁▁▁▁</td></tr><tr><td>lambda_1</td><td>▁</td></tr><tr><td>lr</td><td>▁</td></tr><tr><td>one_hot</td><td>▁</td></tr><tr><td>test_accuracy</td><td>▁▅▇▇▇▇██████████████████████████████████</td></tr><tr><td>test_loss</td><td>█▄▂▂▂▁▁▁▁▁▁▁▁▁▁▁▁▁▁▁▁▁▁▁▁▁▁▁▁▁▁▁▁▁▁▁▁▁▁▁</td></tr><tr><td>train_accuracy</td><td>▁▅▆▇▇▇▇▇▇███████████████████████████████</td></tr><tr><td>train_loss</td><td>█▄▃▂▂▂▂▂▂▂▂▁▁▁▁▁▁▁▁▁▁▁▁▁▁▁▁▁▁▁▁▁▁▁▁▁▁▁▁▁</td></tr><tr><td>val_accuracy</td><td>▁▅▆▇▇▆▇▇▇▇█▇██▇██▇▇█▇████▇▇█▇█▇███▇▇███▇</td></tr><tr><td>val_loss</td><td>█▄▂▂▂▁▁▁▁▁▁▁▁▁▁▁▁▁▁▁▁▁▁▁▁▁▁▁▁▁▁▁▁▁▁▁▁▁▁▁</td></tr></table><br/></div><div class=\"wandb-col\"><h3>Run summary:</h3><br/><table class=\"wandb\"><tr><td>Max_class_num</td><td>All</td></tr><tr><td>background</td><td>False</td></tr><tr><td>batch_size</td><td>32</td></tr><tr><td>ce_loss</td><td>0.1797</td></tr><tr><td>centroid_method</td><td>median</td></tr><tr><td>cluster_technique</td><td>kmeans</td></tr><tr><td>clusters</td><td>2048</td></tr><tr><td>l1_loss</td><td>0.36913</td></tr><tr><td>lambda_1</td><td>0.0001</td></tr><tr><td>lr</td><td>0.0001</td></tr><tr><td>model_name</td><td>CLIP-ViT-L14</td></tr><tr><td>one_hot</td><td>False</td></tr><tr><td>segmentation_technique</td><td>SAM2</td></tr><tr><td>test_accuracy</td><td>81.23921</td></tr><tr><td>test_loss</td><td>0.69546</td></tr><tr><td>train_accuracy</td><td>98.35002</td></tr><tr><td>train_loss</td><td>0.54883</td></tr><tr><td>val_accuracy</td><td>78.83333</td></tr><tr><td>val_loss</td><td>0.75926</td></tr></table><br/></div></div>"
      ],
      "text/plain": [
       "<IPython.core.display.HTML object>"
      ]
     },
     "metadata": {},
     "output_type": "display_data"
    },
    {
     "data": {
      "text/html": [
       " View run <strong style=\"color:#cdcd00\">cub_CLIP-ViT-L14_2024-11-18_13-46-44</strong> at: <a href='https://wandb.ai/knab/SegCBM_ALL/runs/sgwp86jx' target=\"_blank\">https://wandb.ai/knab/SegCBM_ALL/runs/sgwp86jx</a><br/>Synced 5 W&B file(s), 0 media file(s), 0 artifact file(s) and 0 other file(s)"
      ],
      "text/plain": [
       "<IPython.core.display.HTML object>"
      ]
     },
     "metadata": {},
     "output_type": "display_data"
    },
    {
     "data": {
      "text/html": [
       "Find logs at: <code>./wandb/run-20241118_134644-sgwp86jx/logs</code>"
      ],
      "text/plain": [
       "<IPython.core.display.HTML object>"
      ]
     },
     "metadata": {},
     "output_type": "display_data"
    },
    {
     "data": {
      "text/plain": [
       "LinearProbe(\n",
       "  (linear): Linear(in_features=2048, out_features=200, bias=True)\n",
       ")"
      ]
     },
     "execution_count": 5,
     "metadata": {},
     "output_type": "execute_result"
    }
   ],
   "source": [
    "cbm = CBM(\n",
    "    embed_path, dataset, model_name, class_labels_path, device=device\n",
    ")  # Initialize CBM\n",
    "\n",
    "cbm.load_concepts(\n",
    "    segment_path,\n",
    "    segmentation_technique,\n",
    "    concept_name,\n",
    "    selected_image_concepts,\n",
    "    concept_per_class,\n",
    "    crop=crop,\n",
    ")  # Load concepts with predefined segmentation technique and hyperparameters\n",
    "\n",
    "if clusters is not None:  # if clustering is needed\n",
    "    cbm.cluster_image_concepts(cluster_method, clusters, pca = True)\n",
    "else:\n",
    "    cbm.clustered_concepts = cbm.image_segments\n",
    "\n",
    "cbm.centroid_concepts(\n",
    "    centroid_method\n",
    ")  # Calculate centroids of the concepts with given method\n",
    "\n",
    "cbm.preprocess_data(\n",
    "    type_=\"standard\", label_type=one_hot\n",
    ")  # preprocess data for training\n",
    "cbm.train(  # train the model\n",
    "    num_epochs=epochs,\n",
    "    lambda_1=lambda_1,\n",
    "    lr=lr,\n",
    "    device=device,\n",
    "    batch_size=batch_size,\n",
    "    project=project,\n",
    "    to_print=False,\n",
    "    early_stopping_patience=None,\n",
    "    one_hot=one_hot,\n",
    "    use_wandb=use_wandb,\n",
    ")"
   ]
  },
  {
   "cell_type": "code",
   "execution_count": null,
   "metadata": {},
   "outputs": [],
   "source": []
  }
 ],
 "metadata": {
  "kernelspec": {
   "display_name": "envi",
   "language": "python",
   "name": "python3"
  },
  "language_info": {
   "codemirror_mode": {
    "name": "ipython",
    "version": 3
   },
   "file_extension": ".py",
   "mimetype": "text/x-python",
   "name": "python",
   "nbconvert_exporter": "python",
   "pygments_lexer": "ipython3",
   "version": "3.10.8"
  }
 },
 "nbformat": 4,
 "nbformat_minor": 2
}
